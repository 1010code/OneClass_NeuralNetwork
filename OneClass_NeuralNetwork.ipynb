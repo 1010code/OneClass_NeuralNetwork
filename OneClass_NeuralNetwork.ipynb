{
 "cells": [
  {
   "cell_type": "code",
   "execution_count": 1,
   "metadata": {
    "_cell_guid": "b1076dfc-b9ad-4769-8c92-a6c4dae69d19",
    "_uuid": "8f2839f25d086af736a60e9eeb907d3b93b6e0e5",
    "execution": {
     "iopub.execute_input": "2020-10-21T15:41:36.524203Z",
     "iopub.status.busy": "2020-10-21T15:41:36.523463Z",
     "iopub.status.idle": "2020-10-21T15:41:43.436024Z",
     "shell.execute_reply": "2020-10-21T15:41:43.434874Z"
    },
    "papermill": {
     "duration": 6.938329,
     "end_time": "2020-10-21T15:41:43.436151",
     "exception": false,
     "start_time": "2020-10-21T15:41:36.497822",
     "status": "completed"
    },
    "tags": []
   },
   "outputs": [],
   "source": [
    "import numpy as np\n",
    "import pandas as pd\n",
    "import matplotlib.pyplot as plt\n",
    "\n",
    "import tensorflow as tf\n",
    "from tensorflow.keras.models import *\n",
    "from tensorflow.keras.layers import *\n",
    "from tensorflow.keras.callbacks import *\n",
    "from tensorflow.keras.optimizers import *\n",
    "from tensorflow.keras.applications import VGG16\n",
    "from tensorflow.keras.applications.vgg16 import preprocess_input\n",
    "from tensorflow.keras.preprocessing.image import ImageDataGenerator\n",
    "\n",
    "import cv2\n",
    "import random\n",
    "import itertools\n",
    "import os\n",
    "\n",
    "from sklearn.metrics import confusion_matrix, accuracy_score"
   ]
  },
  {
   "cell_type": "code",
   "execution_count": 2,
   "metadata": {
    "execution": {
     "iopub.execute_input": "2020-10-21T15:41:43.482945Z",
     "iopub.status.busy": "2020-10-21T15:41:43.482108Z",
     "iopub.status.idle": "2020-10-21T15:41:43.485666Z",
     "shell.execute_reply": "2020-10-21T15:41:43.486209Z"
    },
    "papermill": {
     "duration": 0.032817,
     "end_time": "2020-10-21T15:41:43.486339",
     "exception": false,
     "start_time": "2020-10-21T15:41:43.453522",
     "status": "completed"
    },
    "tags": []
   },
   "outputs": [],
   "source": [
    "def plot_confusion_matrix(cm, classes, title='Confusion matrix', cmap=plt.cm.Blues):\n",
    "\n",
    "    cm = cm.astype('float') / cm.sum(axis=1)[:, np.newaxis]\n",
    "\n",
    "    plt.imshow(cm, interpolation='nearest', cmap=cmap)\n",
    "    plt.title(title, fontsize=25)\n",
    "    #plt.colorbar()\n",
    "    tick_marks = np.arange(len(classes))\n",
    "    plt.xticks(tick_marks, classes, rotation=90, fontsize=15)\n",
    "    plt.yticks(tick_marks, classes, fontsize=15)\n",
    "\n",
    "    fmt = '.2f'\n",
    "    thresh = cm.max() / 2.\n",
    "    for i, j in itertools.product(range(cm.shape[0]), range(cm.shape[1])):\n",
    "        plt.text(j, i, format(cm[i, j], fmt),\n",
    "                 horizontalalignment=\"center\",\n",
    "                 color=\"white\" if cm[i, j] > thresh else \"black\", fontsize = 14)\n",
    "\n",
    "    plt.ylabel('True label', fontsize=20)\n",
    "    plt.xlabel('Predicted label', fontsize=20)"
   ]
  },
  {
   "cell_type": "code",
   "execution_count": 3,
   "metadata": {
    "_cell_guid": "79c7e3d0-c299-4dcb-8224-4455121ee9b0",
    "_uuid": "d629ff2d2480ee46fbb7e2d37f6b5fab8052498a",
    "execution": {
     "iopub.execute_input": "2020-10-21T15:41:43.525526Z",
     "iopub.status.busy": "2020-10-21T15:41:43.524880Z",
     "iopub.status.idle": "2020-10-21T15:41:43.528962Z",
     "shell.execute_reply": "2020-10-21T15:41:43.529521Z"
    },
    "papermill": {
     "duration": 0.02636,
     "end_time": "2020-10-21T15:41:43.529657",
     "exception": false,
     "start_time": "2020-10-21T15:41:43.503297",
     "status": "completed"
    },
    "tags": []
   },
   "outputs": [],
   "source": [
    "### DEFINE SOME PARAMETERS ###\n",
    "\n",
    "base_path = \"../input/cat-and-dog/\"\n",
    "SHAPE = (224,224,3)\n",
    "batch_size = 256"
   ]
  },
  {
   "cell_type": "code",
   "execution_count": 4,
   "metadata": {
    "execution": {
     "iopub.execute_input": "2020-10-21T15:41:43.574859Z",
     "iopub.status.busy": "2020-10-21T15:41:43.574153Z",
     "iopub.status.idle": "2020-10-21T15:41:45.080975Z",
     "shell.execute_reply": "2020-10-21T15:41:45.081552Z"
    },
    "papermill": {
     "duration": 1.534914,
     "end_time": "2020-10-21T15:41:45.081714",
     "exception": false,
     "start_time": "2020-10-21T15:41:43.546800",
     "status": "completed"
    },
    "tags": []
   },
   "outputs": [
    {
     "ename": "FileNotFoundError",
     "evalue": "[Errno 2] No such file or directory: '../input/cat-and-dog/training_set/training_set/'",
     "output_type": "error",
     "traceback": [
      "\u001b[0;31m---------------------------------------------------------------------------\u001b[0m",
      "\u001b[0;31mFileNotFoundError\u001b[0m                         Traceback (most recent call last)",
      "\u001b[0;32m<ipython-input-4-4cf80efcd006>\u001b[0m in \u001b[0;36m<module>\u001b[0;34m\u001b[0m\n\u001b[1;32m      4\u001b[0m \u001b[0;34m\u001b[0m\u001b[0m\n\u001b[1;32m      5\u001b[0m \u001b[0;32mfor\u001b[0m \u001b[0max\u001b[0m \u001b[0;32min\u001b[0m \u001b[0maxes\u001b[0m\u001b[0;34m.\u001b[0m\u001b[0mravel\u001b[0m\u001b[0;34m(\u001b[0m\u001b[0;34m)\u001b[0m\u001b[0;34m:\u001b[0m\u001b[0;34m\u001b[0m\u001b[0;34m\u001b[0m\u001b[0m\n\u001b[0;32m----> 6\u001b[0;31m     \u001b[0mlabel\u001b[0m \u001b[0;34m=\u001b[0m \u001b[0mnp\u001b[0m\u001b[0;34m.\u001b[0m\u001b[0mrandom\u001b[0m\u001b[0;34m.\u001b[0m\u001b[0mchoice\u001b[0m\u001b[0;34m(\u001b[0m\u001b[0mos\u001b[0m\u001b[0;34m.\u001b[0m\u001b[0mlistdir\u001b[0m\u001b[0;34m(\u001b[0m\u001b[0mbase_path\u001b[0m \u001b[0;34m+\u001b[0m \u001b[0;34m\"training_set/training_set/\"\u001b[0m\u001b[0;34m)\u001b[0m\u001b[0;34m)\u001b[0m\u001b[0;34m\u001b[0m\u001b[0;34m\u001b[0m\u001b[0m\n\u001b[0m\u001b[1;32m      7\u001b[0m     \u001b[0mimg\u001b[0m \u001b[0;34m=\u001b[0m \u001b[0mnp\u001b[0m\u001b[0;34m.\u001b[0m\u001b[0mrandom\u001b[0m\u001b[0;34m.\u001b[0m\u001b[0mchoice\u001b[0m\u001b[0;34m(\u001b[0m\u001b[0mos\u001b[0m\u001b[0;34m.\u001b[0m\u001b[0mlistdir\u001b[0m\u001b[0;34m(\u001b[0m\u001b[0mbase_path\u001b[0m \u001b[0;34m+\u001b[0m \u001b[0;34m\"training_set/training_set/\"\u001b[0m \u001b[0;34m+\u001b[0m \u001b[0mlabel\u001b[0m\u001b[0;34m)\u001b[0m\u001b[0;34m)\u001b[0m\u001b[0;34m\u001b[0m\u001b[0;34m\u001b[0m\u001b[0m\n\u001b[1;32m      8\u001b[0m     \u001b[0mimg\u001b[0m \u001b[0;34m=\u001b[0m \u001b[0mcv2\u001b[0m\u001b[0;34m.\u001b[0m\u001b[0mimread\u001b[0m\u001b[0;34m(\u001b[0m\u001b[0mbase_path\u001b[0m \u001b[0;34m+\u001b[0m \u001b[0;34m\"training_set/training_set/\"\u001b[0m \u001b[0;34m+\u001b[0m \u001b[0mlabel\u001b[0m \u001b[0;34m+\u001b[0m \u001b[0;34m\"/\"\u001b[0m \u001b[0;34m+\u001b[0m \u001b[0mimg\u001b[0m\u001b[0;34m)\u001b[0m\u001b[0;34m\u001b[0m\u001b[0;34m\u001b[0m\u001b[0m\n",
      "\u001b[0;31mFileNotFoundError\u001b[0m: [Errno 2] No such file or directory: '../input/cat-and-dog/training_set/training_set/'"
     ]
    },
    {
     "data": {
      "image/png": "[encoded data removed]",
      "text/plain": [
       "<Figure size 1152x504 with 6 Axes>"
      ]
     },
     "metadata": {
      "needs_background": "light"
     },
     "output_type": "display_data"
    }
   ],
   "source": [
    "### PLOT SAMPLE IMAGES ###\n",
    "\n",
    "f, axes = plt.subplots(2, 3, sharex=True, sharey=True, figsize = (16,7))\n",
    "\n",
    "for ax in axes.ravel():\n",
    "    label = np.random.choice(os.listdir(base_path + \"training_set/training_set/\"))\n",
    "    img = np.random.choice(os.listdir(base_path + \"training_set/training_set/\" + label))\n",
    "    img = cv2.imread(base_path + \"training_set/training_set/\" + label + \"/\" + img)\n",
    "    img = cv2.resize(img, SHAPE[:2])\n",
    "    ax.imshow(cv2.cvtColor(img, cv2.COLOR_BGRA2RGB))\n",
    "    ax.set_title(label)"
   ]
  },
  {
   "cell_type": "code",
   "execution_count": 5,
   "metadata": {
    "execution": {
     "iopub.execute_input": "2020-10-21T15:41:45.142988Z",
     "iopub.status.busy": "2020-10-21T15:41:45.141021Z",
     "iopub.status.idle": "2020-10-21T15:41:45.143689Z",
     "shell.execute_reply": "2020-10-21T15:41:45.144145Z"
    },
    "papermill": {
     "duration": 0.035219,
     "end_time": "2020-10-21T15:41:45.144270",
     "exception": false,
     "start_time": "2020-10-21T15:41:45.109051",
     "status": "completed"
    },
    "tags": []
   },
   "outputs": [],
   "source": [
    "### GENERATOR WRAPPER TO CREATE FAKE LABEL ###\n",
    "\n",
    "def wrap_generator(generator):\n",
    "    \n",
    "    while True:\n",
    "        x,y = next(generator)\n",
    "        y = tf.keras.utils.to_categorical(y)\n",
    "        zeros = tf.zeros_like(y) + tf.constant([1.,0.])\n",
    "        y = tf.concat([y,zeros], axis=0)\n",
    "        \n",
    "        yield x,y"
   ]
  },
  {
   "cell_type": "code",
   "execution_count": 6,
   "metadata": {
    "execution": {
     "iopub.execute_input": "2020-10-21T15:41:45.208925Z",
     "iopub.status.busy": "2020-10-21T15:41:45.208046Z",
     "iopub.status.idle": "2020-10-21T15:41:45.211387Z",
     "shell.execute_reply": "2020-10-21T15:41:45.210862Z"
    },
    "papermill": {
     "duration": 0.041377,
     "end_time": "2020-10-21T15:41:45.211498",
     "exception": false,
     "start_time": "2020-10-21T15:41:45.170121",
     "status": "completed"
    },
    "tags": []
   },
   "outputs": [],
   "source": [
    "### MODEL FUNCTION ###\n",
    "\n",
    "def get_model(train=True):\n",
    "    \n",
    "    pre_process = Lambda(preprocess_input)\n",
    "    vgg = VGG16(weights = 'imagenet', include_top = True, input_shape = SHAPE)\n",
    "    vgg = Model(vgg.input, vgg.layers[-3].output)\n",
    "    vgg.trainable = False\n",
    "    \n",
    "    inp = Input(SHAPE)\n",
    "    vgg_16_process = pre_process(GaussianNoise(0.1)(inp))\n",
    "    vgg_out = vgg(vgg_16_process)\n",
    "    \n",
    "    noise = Lambda(tf.zeros_like)(vgg_out)\n",
    "    noise = GaussianNoise(0.1)(noise)\n",
    "\n",
    "    if train:\n",
    "        x = Lambda(lambda z: tf.concat(z, axis=0))([vgg_out,noise])\n",
    "        x = Activation('relu')(x)\n",
    "    else:\n",
    "        x = vgg_out\n",
    "        \n",
    "    x = Dense(512, activation='relu')(x)\n",
    "    x = Dense(128, activation='relu')(x)\n",
    "    out = Dense(2, activation='softmax')(x)\n",
    "\n",
    "    model = Model(inp, out)\n",
    "    model.compile(Adam(lr=1e-4), loss='binary_crossentropy')\n",
    "    \n",
    "    return model"
   ]
  },
  {
   "cell_type": "markdown",
   "metadata": {
    "papermill": {
     "duration": 0.026817,
     "end_time": "2020-10-21T15:41:45.263685",
     "exception": false,
     "start_time": "2020-10-21T15:41:45.236868",
     "status": "completed"
    },
    "tags": []
   },
   "source": [
    "# **Train only on 'CATS'**"
   ]
  },
  {
   "cell_type": "code",
   "execution_count": 7,
   "metadata": {
    "execution": {
     "iopub.execute_input": "2020-10-21T15:41:45.320731Z",
     "iopub.status.busy": "2020-10-21T15:41:45.319836Z",
     "iopub.status.idle": "2020-10-21T15:41:45.322087Z",
     "shell.execute_reply": "2020-10-21T15:41:45.322618Z"
    },
    "papermill": {
     "duration": 0.03316,
     "end_time": "2020-10-21T15:41:45.322758",
     "exception": false,
     "start_time": "2020-10-21T15:41:45.289598",
     "status": "completed"
    },
    "tags": []
   },
   "outputs": [],
   "source": [
    "### CREATE EMPTY GENERATORS ###\n",
    "\n",
    "train_datagen = ImageDataGenerator()\n",
    "test_datagen = ImageDataGenerator()"
   ]
  },
  {
   "cell_type": "code",
   "execution_count": 8,
   "metadata": {
    "execution": {
     "iopub.execute_input": "2020-10-21T15:41:45.383136Z",
     "iopub.status.busy": "2020-10-21T15:41:45.382245Z",
     "iopub.status.idle": "2020-10-21T15:41:46.530878Z",
     "shell.execute_reply": "2020-10-21T15:41:46.532465Z"
    },
    "papermill": {
     "duration": 1.184297,
     "end_time": "2020-10-21T15:41:46.532675",
     "exception": false,
     "start_time": "2020-10-21T15:41:45.348378",
     "status": "completed"
    },
    "tags": []
   },
   "outputs": [
    {
     "name": "stdout",
     "output_type": "stream",
     "text": [
      "Found 4000 images belonging to 1 classes.\n",
      "Found 2023 images belonging to 2 classes.\n"
     ]
    }
   ],
   "source": [
    "### FLOW GENERATORS ###\n",
    "\n",
    "train_generator = train_datagen.flow_from_directory(\n",
    "            base_path + 'training_set/training_set/',\n",
    "            target_size = (SHAPE[0], SHAPE[1]),\n",
    "            batch_size = batch_size,\n",
    "            class_mode = 'categorical',\n",
    "            shuffle = True,\n",
    "            seed = 33,\n",
    "            classes = ['cats']\n",
    "    )\n",
    "\n",
    "test_generator = test_datagen.flow_from_directory(\n",
    "            base_path + 'test_set/test_set/',\n",
    "            target_size = (SHAPE[0], SHAPE[1]),\n",
    "            batch_size = batch_size,\n",
    "            class_mode = 'categorical',\n",
    "            shuffle = True,\n",
    "            seed = 33,\n",
    "            classes = ['dogs','cats']\n",
    ")"
   ]
  },
  {
   "cell_type": "code",
   "execution_count": 9,
   "metadata": {
    "execution": {
     "iopub.execute_input": "2020-10-21T15:41:46.600902Z",
     "iopub.status.busy": "2020-10-21T15:41:46.600202Z",
     "iopub.status.idle": "2020-10-21T15:48:21.263130Z",
     "shell.execute_reply": "2020-10-21T15:48:21.263961Z"
    },
    "papermill": {
     "duration": 394.703315,
     "end_time": "2020-10-21T15:48:21.264116",
     "exception": false,
     "start_time": "2020-10-21T15:41:46.560801",
     "status": "completed"
    },
    "tags": []
   },
   "outputs": [
    {
     "name": "stdout",
     "output_type": "stream",
     "text": [
      "Downloading data from https://storage.googleapis.com/tensorflow/keras-applications/vgg16/vgg16_weights_tf_dim_ordering_tf_kernels.h5\n",
      "553467904/553467096 [==============================] - 5s 0us/step\n",
      "Epoch 1/20\n",
      "16/15 [==============================] - 31s 2s/step - loss: 0.7714\n",
      "Epoch 2/20\n",
      "16/15 [==============================] - 17s 1s/step - loss: 0.3394\n",
      "Epoch 3/20\n",
      "16/15 [==============================] - 18s 1s/step - loss: 0.2286\n",
      "Epoch 4/20\n",
      "16/15 [==============================] - 17s 1s/step - loss: 0.1464\n",
      "Epoch 5/20\n",
      "16/15 [==============================] - 17s 1s/step - loss: 0.0865\n",
      "Epoch 6/20\n",
      "16/15 [==============================] - 17s 1s/step - loss: 0.0527\n",
      "Epoch 7/20\n",
      "16/15 [==============================] - 17s 1s/step - loss: 0.0369\n",
      "Epoch 8/20\n",
      "16/15 [==============================] - 16s 1s/step - loss: 0.0271\n",
      "Epoch 9/20\n",
      "16/15 [==============================] - 18s 1s/step - loss: 0.0216\n",
      "Epoch 10/20\n",
      "16/15 [==============================] - 17s 1s/step - loss: 0.0180\n",
      "Epoch 11/20\n",
      "16/15 [==============================] - 16s 1s/step - loss: 0.0158\n",
      "Epoch 12/20\n",
      "16/15 [==============================] - 17s 1s/step - loss: 0.0142\n",
      "Epoch 13/20\n",
      "16/15 [==============================] - 17s 1s/step - loss: 0.0131\n",
      "Epoch 14/20\n",
      "16/15 [==============================] - 17s 1s/step - loss: 0.0122\n",
      "Epoch 15/20\n",
      "16/15 [==============================] - 16s 1s/step - loss: 0.0116\n",
      "Epoch 16/20\n",
      "16/15 [==============================] - 17s 1s/step - loss: 0.0109\n",
      "Epoch 17/20\n",
      "16/15 [==============================] - 17s 1s/step - loss: 0.0105\n",
      "Epoch 18/20\n",
      "16/15 [==============================] - 17s 1s/step - loss: 0.0101\n",
      "Epoch 19/20\n",
      "16/15 [==============================] - 17s 1s/step - loss: 0.0098\n",
      "Epoch 20/20\n",
      "16/15 [==============================] - 16s 1s/step - loss: 0.0096\n"
     ]
    },
    {
     "data": {
      "text/plain": [
       "<tensorflow.python.keras.callbacks.History at 0x7f4394baec10>"
      ]
     },
     "execution_count": 9,
     "metadata": {},
     "output_type": "execute_result"
    }
   ],
   "source": [
    "tf.random.set_seed(33)\n",
    "os.environ['PYTHONHASHSEED'] = str(33)\n",
    "np.random.seed(33)\n",
    "random.seed(33)\n",
    "\n",
    "session_conf = tf.compat.v1.ConfigProto(\n",
    "    intra_op_parallelism_threads=1, \n",
    "    inter_op_parallelism_threads=1\n",
    ")\n",
    "sess = tf.compat.v1.Session(\n",
    "    graph=tf.compat.v1.get_default_graph(), \n",
    "    config=session_conf\n",
    ")\n",
    "tf.compat.v1.keras.backend.set_session(sess)\n",
    "\n",
    "\n",
    "\n",
    "es = EarlyStopping(monitor='val_loss', mode='auto', restore_best_weights=True, verbose=1, patience=5)\n",
    "\n",
    "model = get_model()\n",
    "model.fit(wrap_generator(train_generator), steps_per_epoch=train_generator.samples/train_generator.batch_size, epochs=20)"
   ]
  },
  {
   "cell_type": "code",
   "execution_count": 10,
   "metadata": {
    "execution": {
     "iopub.execute_input": "2020-10-21T15:48:21.635948Z",
     "iopub.status.busy": "2020-10-21T15:48:21.635256Z",
     "iopub.status.idle": "2020-10-21T15:48:31.921115Z",
     "shell.execute_reply": "2020-10-21T15:48:31.922360Z"
    },
    "papermill": {
     "duration": 10.474414,
     "end_time": "2020-10-21T15:48:31.922563",
     "exception": false,
     "start_time": "2020-10-21T15:48:21.448149",
     "status": "completed"
    },
    "tags": []
   },
   "outputs": [
    {
     "data": {
      "text/plain": [
       "(2023,)"
      ]
     },
     "execution_count": 10,
     "metadata": {},
     "output_type": "execute_result"
    }
   ],
   "source": [
    "### RETRIVE TEST LABEL FROM GENERATOR ###\n",
    "\n",
    "test_num = test_generator.samples\n",
    "\n",
    "label_test = []\n",
    "for i in range((test_num // test_generator.batch_size)+1):\n",
    "    X,y = test_generator.next()\n",
    "    label_test.append(y)\n",
    "        \n",
    "label_test = np.argmax(np.vstack(label_test), axis=1)\n",
    "label_test.shape"
   ]
  },
  {
   "cell_type": "code",
   "execution_count": 11,
   "metadata": {
    "execution": {
     "iopub.execute_input": "2020-10-21T15:48:32.455500Z",
     "iopub.status.busy": "2020-10-21T15:48:32.454551Z",
     "iopub.status.idle": "2020-10-21T15:48:35.394090Z",
     "shell.execute_reply": "2020-10-21T15:48:35.393529Z"
    },
    "papermill": {
     "duration": 3.195372,
     "end_time": "2020-10-21T15:48:35.394211",
     "exception": false,
     "start_time": "2020-10-21T15:48:32.198839",
     "status": "completed"
    },
    "tags": []
   },
   "outputs": [],
   "source": [
    "### SWITCH TO INFERENCE MODE TO COMPUTE PREDICTIONS ###\n",
    "\n",
    "ineference_model = get_model(train=False)\n",
    "ineference_model.set_weights(model.get_weights())"
   ]
  },
  {
   "cell_type": "code",
   "execution_count": 12,
   "metadata": {
    "execution": {
     "iopub.execute_input": "2020-10-21T15:48:35.760275Z",
     "iopub.status.busy": "2020-10-21T15:48:35.759462Z",
     "iopub.status.idle": "2020-10-21T15:48:48.217012Z",
     "shell.execute_reply": "2020-10-21T15:48:48.216237Z"
    },
    "papermill": {
     "duration": 12.642291,
     "end_time": "2020-10-21T15:48:48.217127",
     "exception": false,
     "start_time": "2020-10-21T15:48:35.574836",
     "status": "completed"
    },
    "tags": []
   },
   "outputs": [],
   "source": [
    "### COMPUTE PREDICTIONS ON TEST DATA ###\n",
    "\n",
    "pred_test = np.argmax(ineference_model.predict(test_generator), axis=1)"
   ]
  },
  {
   "cell_type": "code",
   "execution_count": 13,
   "metadata": {
    "execution": {
     "iopub.execute_input": "2020-10-21T15:48:48.584536Z",
     "iopub.status.busy": "2020-10-21T15:48:48.583635Z",
     "iopub.status.idle": "2020-10-21T15:48:48.588338Z",
     "shell.execute_reply": "2020-10-21T15:48:48.588863Z"
    },
    "papermill": {
     "duration": 0.190605,
     "end_time": "2020-10-21T15:48:48.588989",
     "exception": false,
     "start_time": "2020-10-21T15:48:48.398384",
     "status": "completed"
    },
    "tags": []
   },
   "outputs": [
    {
     "name": "stdout",
     "output_type": "stream",
     "text": [
      "ACCURACY: 0.9016312407315867\n"
     ]
    }
   ],
   "source": [
    "### ACCURACY ON TEST DATA ###\n",
    "\n",
    "print('ACCURACY:', accuracy_score(label_test, pred_test))"
   ]
  },
  {
   "cell_type": "code",
   "execution_count": 14,
   "metadata": {
    "execution": {
     "iopub.execute_input": "2020-10-21T15:48:48.974542Z",
     "iopub.status.busy": "2020-10-21T15:48:48.973711Z",
     "iopub.status.idle": "2020-10-21T15:48:49.093418Z",
     "shell.execute_reply": "2020-10-21T15:48:49.093916Z"
    },
    "papermill": {
     "duration": 0.311088,
     "end_time": "2020-10-21T15:48:49.094056",
     "exception": false,
     "start_time": "2020-10-21T15:48:48.782968",
     "status": "completed"
    },
    "tags": []
   },
   "outputs": [
    {
     "data": {
      "image/png": "[encoded data removed]",
      "text/plain": [
       "<Figure size 504x504 with 1 Axes>"
      ]
     },
     "metadata": {
      "needs_background": "light"
     },
     "output_type": "display_data"
    }
   ],
   "source": [
    "### CONFUSION MATRIX ON TEST DATA ###\n",
    "\n",
    "cnf_matrix = confusion_matrix(label_test, pred_test)\n",
    "\n",
    "plt.figure(figsize=(7,7))\n",
    "plot_confusion_matrix(cnf_matrix, classes=['not CAT','CAT'])\n",
    "plt.show()"
   ]
  },
  {
   "cell_type": "markdown",
   "metadata": {
    "papermill": {
     "duration": 0.275305,
     "end_time": "2020-10-21T15:48:49.601308",
     "exception": false,
     "start_time": "2020-10-21T15:48:49.326003",
     "status": "completed"
    },
    "tags": []
   },
   "source": [
    "# **Train only on 'DOGS'**"
   ]
  },
  {
   "cell_type": "code",
   "execution_count": 15,
   "metadata": {
    "execution": {
     "iopub.execute_input": "2020-10-21T15:48:50.059301Z",
     "iopub.status.busy": "2020-10-21T15:48:50.058315Z",
     "iopub.status.idle": "2020-10-21T15:48:50.061616Z",
     "shell.execute_reply": "2020-10-21T15:48:50.062391Z"
    },
    "papermill": {
     "duration": 0.198971,
     "end_time": "2020-10-21T15:48:50.062597",
     "exception": false,
     "start_time": "2020-10-21T15:48:49.863626",
     "status": "completed"
    },
    "tags": []
   },
   "outputs": [],
   "source": [
    "### CREATE EMPTY GENERATORS ###\n",
    "\n",
    "train_datagen = ImageDataGenerator()\n",
    "test_datagen = ImageDataGenerator()"
   ]
  },
  {
   "cell_type": "code",
   "execution_count": 16,
   "metadata": {
    "execution": {
     "iopub.execute_input": "2020-10-21T15:48:50.444848Z",
     "iopub.status.busy": "2020-10-21T15:48:50.444092Z",
     "iopub.status.idle": "2020-10-21T15:48:51.651923Z",
     "shell.execute_reply": "2020-10-21T15:48:51.652423Z"
    },
    "papermill": {
     "duration": 1.402844,
     "end_time": "2020-10-21T15:48:51.652612",
     "exception": false,
     "start_time": "2020-10-21T15:48:50.249768",
     "status": "completed"
    },
    "tags": []
   },
   "outputs": [
    {
     "name": "stdout",
     "output_type": "stream",
     "text": [
      "Found 4005 images belonging to 1 classes.\n",
      "Found 2023 images belonging to 2 classes.\n"
     ]
    }
   ],
   "source": [
    "### FLOW GENERATORS ###\n",
    "\n",
    "train_generator = train_datagen.flow_from_directory(\n",
    "            base_path + 'training_set/training_set/',\n",
    "            target_size = (SHAPE[0], SHAPE[1]),\n",
    "            batch_size = batch_size,\n",
    "            class_mode = 'categorical',\n",
    "            shuffle = True,\n",
    "            seed = 33,\n",
    "            classes = ['dogs']\n",
    "    )\n",
    "\n",
    "test_generator = test_datagen.flow_from_directory(\n",
    "            base_path + 'test_set/test_set/',\n",
    "            target_size = (SHAPE[0], SHAPE[1]),\n",
    "            batch_size = batch_size,\n",
    "            class_mode = 'categorical',\n",
    "            shuffle = True,\n",
    "            seed = 33,\n",
    "            classes = ['cats','dogs']\n",
    ")"
   ]
  },
  {
   "cell_type": "code",
   "execution_count": 17,
   "metadata": {
    "execution": {
     "iopub.execute_input": "2020-10-21T15:48:52.042189Z",
     "iopub.status.busy": "2020-10-21T15:48:52.040771Z",
     "iopub.status.idle": "2020-10-21T15:55:10.024382Z",
     "shell.execute_reply": "2020-10-21T15:55:10.023863Z"
    },
    "papermill": {
     "duration": 378.185963,
     "end_time": "2020-10-21T15:55:10.024554",
     "exception": false,
     "start_time": "2020-10-21T15:48:51.838591",
     "status": "completed"
    },
    "tags": []
   },
   "outputs": [
    {
     "name": "stdout",
     "output_type": "stream",
     "text": [
      "Epoch 1/20\n",
      "16/15 [==============================] - 26s 2s/step - loss: 0.8873\n",
      "Epoch 2/20\n",
      "16/15 [==============================] - 17s 1s/step - loss: 0.4009\n",
      "Epoch 3/20\n",
      "16/15 [==============================] - 17s 1s/step - loss: 0.3051\n",
      "Epoch 4/20\n",
      "16/15 [==============================] - 17s 1s/step - loss: 0.2539\n",
      "Epoch 5/20\n",
      "16/15 [==============================] - 16s 1s/step - loss: 0.2011\n",
      "Epoch 6/20\n",
      "16/15 [==============================] - 17s 1s/step - loss: 0.1532\n",
      "Epoch 7/20\n",
      "16/15 [==============================] - 17s 1s/step - loss: 0.1115\n",
      "Epoch 8/20\n",
      "16/15 [==============================] - 17s 1s/step - loss: 0.0815\n",
      "Epoch 9/20\n",
      "16/15 [==============================] - 17s 1s/step - loss: 0.0617\n",
      "Epoch 10/20\n",
      "16/15 [==============================] - 17s 1s/step - loss: 0.0483\n",
      "Epoch 11/20\n",
      "16/15 [==============================] - 17s 1s/step - loss: 0.0393\n",
      "Epoch 12/20\n",
      "16/15 [==============================] - 17s 1s/step - loss: 0.0334\n",
      "Epoch 13/20\n",
      "16/15 [==============================] - 18s 1s/step - loss: 0.0283\n",
      "Epoch 14/20\n",
      "16/15 [==============================] - 17s 1s/step - loss: 0.0244\n",
      "Epoch 15/20\n",
      "16/15 [==============================] - 17s 1s/step - loss: 0.0211\n",
      "Epoch 16/20\n",
      "16/15 [==============================] - 18s 1s/step - loss: 0.0189\n",
      "Epoch 17/20\n",
      "16/15 [==============================] - 18s 1s/step - loss: 0.0171\n",
      "Epoch 18/20\n",
      "16/15 [==============================] - 17s 1s/step - loss: 0.0158\n",
      "Epoch 19/20\n",
      "16/15 [==============================] - 16s 1s/step - loss: 0.0148\n",
      "Epoch 20/20\n",
      "16/15 [==============================] - 18s 1s/step - loss: 0.0138\n"
     ]
    },
    {
     "data": {
      "text/plain": [
       "<tensorflow.python.keras.callbacks.History at 0x7f4300787090>"
      ]
     },
     "execution_count": 17,
     "metadata": {},
     "output_type": "execute_result"
    }
   ],
   "source": [
    "tf.random.set_seed(33)\n",
    "os.environ['PYTHONHASHSEED'] = str(33)\n",
    "np.random.seed(33)\n",
    "random.seed(33)\n",
    "\n",
    "session_conf = tf.compat.v1.ConfigProto(\n",
    "    intra_op_parallelism_threads=1, \n",
    "    inter_op_parallelism_threads=1\n",
    ")\n",
    "sess = tf.compat.v1.Session(\n",
    "    graph=tf.compat.v1.get_default_graph(), \n",
    "    config=session_conf\n",
    ")\n",
    "tf.compat.v1.keras.backend.set_session(sess)\n",
    "\n",
    "\n",
    "\n",
    "es = EarlyStopping(monitor='val_loss', mode='auto', restore_best_weights=True, verbose=1, patience=5)\n",
    "\n",
    "model = get_model()\n",
    "model.fit(wrap_generator(train_generator), steps_per_epoch=train_generator.samples/train_generator.batch_size, epochs=20)"
   ]
  },
  {
   "cell_type": "code",
   "execution_count": 18,
   "metadata": {
    "execution": {
     "iopub.execute_input": "2020-10-21T15:55:10.640664Z",
     "iopub.status.busy": "2020-10-21T15:55:10.640069Z",
     "iopub.status.idle": "2020-10-21T15:55:16.936349Z",
     "shell.execute_reply": "2020-10-21T15:55:16.935868Z"
    },
    "papermill": {
     "duration": 6.60468,
     "end_time": "2020-10-21T15:55:16.936477",
     "exception": false,
     "start_time": "2020-10-21T15:55:10.331797",
     "status": "completed"
    },
    "tags": []
   },
   "outputs": [
    {
     "data": {
      "text/plain": [
       "(2023,)"
      ]
     },
     "execution_count": 18,
     "metadata": {},
     "output_type": "execute_result"
    }
   ],
   "source": [
    "### RETRIVE TEST LABEL FROM GENERATOR ###\n",
    "\n",
    "test_num = test_generator.samples\n",
    "\n",
    "label_test = []\n",
    "for i in range((test_num // test_generator.batch_size)+1):\n",
    "    X,y = test_generator.next()\n",
    "    label_test.append(y)\n",
    "        \n",
    "label_test = np.argmax(np.vstack(label_test), axis=1)\n",
    "label_test.shape"
   ]
  },
  {
   "cell_type": "code",
   "execution_count": 19,
   "metadata": {
    "execution": {
     "iopub.execute_input": "2020-10-21T15:55:17.557797Z",
     "iopub.status.busy": "2020-10-21T15:55:17.556976Z",
     "iopub.status.idle": "2020-10-21T15:55:20.615178Z",
     "shell.execute_reply": "2020-10-21T15:55:20.613959Z"
    },
    "papermill": {
     "duration": 3.370078,
     "end_time": "2020-10-21T15:55:20.615289",
     "exception": false,
     "start_time": "2020-10-21T15:55:17.245211",
     "status": "completed"
    },
    "tags": []
   },
   "outputs": [],
   "source": [
    "### SWITCH TO INFERENCE MODE TO COMPUTE PREDICTIONS ###\n",
    "\n",
    "ineference_model = get_model(train=False)\n",
    "ineference_model.set_weights(model.get_weights())"
   ]
  },
  {
   "cell_type": "code",
   "execution_count": 20,
   "metadata": {
    "execution": {
     "iopub.execute_input": "2020-10-21T15:55:21.236847Z",
     "iopub.status.busy": "2020-10-21T15:55:21.236013Z",
     "iopub.status.idle": "2020-10-21T15:55:30.855765Z",
     "shell.execute_reply": "2020-10-21T15:55:30.855088Z"
    },
    "papermill": {
     "duration": 9.936093,
     "end_time": "2020-10-21T15:55:30.855875",
     "exception": false,
     "start_time": "2020-10-21T15:55:20.919782",
     "status": "completed"
    },
    "tags": []
   },
   "outputs": [],
   "source": [
    "### COMPUTE PREDICTIONS ON TEST DATA ###\n",
    "\n",
    "pred_test = np.argmax(ineference_model.predict(test_generator), axis=1)"
   ]
  },
  {
   "cell_type": "code",
   "execution_count": 21,
   "metadata": {
    "execution": {
     "iopub.execute_input": "2020-10-21T15:55:31.504298Z",
     "iopub.status.busy": "2020-10-21T15:55:31.503354Z",
     "iopub.status.idle": "2020-10-21T15:55:31.508114Z",
     "shell.execute_reply": "2020-10-21T15:55:31.508681Z"
    },
    "papermill": {
     "duration": 0.339383,
     "end_time": "2020-10-21T15:55:31.508813",
     "exception": false,
     "start_time": "2020-10-21T15:55:31.169430",
     "status": "completed"
    },
    "tags": []
   },
   "outputs": [
    {
     "name": "stdout",
     "output_type": "stream",
     "text": [
      "ACCURACY: 0.8161146811665843\n"
     ]
    }
   ],
   "source": [
    "### ACCURACY ON TEST DATA ###\n",
    "\n",
    "print('ACCURACY:', accuracy_score(label_test, pred_test))"
   ]
  },
  {
   "cell_type": "code",
   "execution_count": 22,
   "metadata": {
    "execution": {
     "iopub.execute_input": "2020-10-21T15:55:32.171712Z",
     "iopub.status.busy": "2020-10-21T15:55:32.170789Z",
     "iopub.status.idle": "2020-10-21T15:55:32.281234Z",
     "shell.execute_reply": "2020-10-21T15:55:32.281763Z"
    },
    "papermill": {
     "duration": 0.452047,
     "end_time": "2020-10-21T15:55:32.281896",
     "exception": false,
     "start_time": "2020-10-21T15:55:31.829849",
     "status": "completed"
    },
    "tags": []
   },
   "outputs": [
    {
     "data": {
      "image/png": "[encoded data removed]",
      "text/plain": [
       "<Figure size 504x504 with 1 Axes>"
      ]
     },
     "metadata": {
      "needs_background": "light"
     },
     "output_type": "display_data"
    }
   ],
   "source": [
    "### CONFUSION MATRIX ON TEST DATA ###\n",
    "\n",
    "cnf_matrix = confusion_matrix(label_test, pred_test)\n",
    "\n",
    "plt.figure(figsize=(7,7))\n",
    "plot_confusion_matrix(cnf_matrix, classes=['not DOG','DOG'])\n",
    "plt.show()"
   ]
  }
 ],
 "metadata": {
  "kernelspec": {
   "display_name": "Python 3",
   "language": "python",
   "name": "python3"
  },
  "language_info": {
   "codemirror_mode": {
    "name": "ipython",
    "version": 3
   },
   "file_extension": ".py",
   "mimetype": "text/x-python",
   "name": "python",
   "nbconvert_exporter": "python",
   "pygments_lexer": "ipython3",
   "version": "3.7.6"
  },
  "papermill": {
   "duration": 842.190733,
   "end_time": "2020-10-21T15:55:34.102810",
   "environment_variables": {},
   "exception": null,
   "input_path": "__notebook__.ipynb",
   "output_path": "__notebook__.ipynb",
   "parameters": {},
   "start_time": "2020-10-21T15:41:31.912077",
   "version": "2.1.0"
  }
 },
 "nbformat": 4,
 "nbformat_minor": 4
}
